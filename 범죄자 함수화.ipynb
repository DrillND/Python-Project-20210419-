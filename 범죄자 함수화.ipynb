{
 "cells": [
  {
   "cell_type": "code",
   "execution_count": 23,
   "metadata": {},
   "outputs": [
    {
     "name": "stdout",
     "output_type": "stream",
     "text": [
      "['계', '소계', '1585638', '65907', '9028', '11681', '13503', '14249', '17446', '1516477', '20259', '18026', '118801', '131970', '123442', '156540', '155689', '192774', '184847', '180686', '116263', '58659', '58521', '3254']\n"
     ]
    }
   ],
   "source": [
    "f = open('crime.csv', encoding = 'cp949')\n",
    "data = csv.reader(f)\n",
    "\n",
    "for i in data:\n",
    "    if '계' in i[0]:\n",
    "        a=i[2:3]\n",
    "        print(i)\n",
    "d=['범죄를 저지를 확률','범죄를 안저지를 확률']\n",
    "f=[]\n",
    "a = list(map(int, a))\n",
    "\n",
    "\n",
    "c=(a[0]/50000000*100)\n",
    "b=100-(c)\n",
    "f=[c,b]\n",
    "\n",
    "dic3 = { name:value for name, value in zip(d, f) }\n",
    "crime_=list(map(int,dic3.values()))"
   ]
  },
  {
   "cell_type": "code",
   "execution_count": 26,
   "metadata": {},
   "outputs": [],
   "source": [
    "def crime ():\n",
    "    \n",
    "    return crime_[0]\n"
   ]
  },
  {
   "cell_type": "code",
   "execution_count": 28,
   "metadata": {},
   "outputs": [
    {
     "data": {
      "text/plain": [
       "[3, 96]"
      ]
     },
     "execution_count": 28,
     "metadata": {},
     "output_type": "execute_result"
    }
   ],
   "source": [
    "crime_"
   ]
  },
  {
   "cell_type": "code",
   "execution_count": 13,
   "metadata": {},
   "outputs": [
    {
     "data": {
      "text/plain": [
       "{'범죄를 저지를 확률': 3.1712759999999998, '범죄를 안저지를 확률': 96.828724}"
      ]
     },
     "execution_count": 13,
     "metadata": {},
     "output_type": "execute_result"
    }
   ],
   "source": [
    "dic3"
   ]
  },
  {
   "cell_type": "code",
   "execution_count": null,
   "metadata": {},
   "outputs": [],
   "source": []
  }
 ],
 "metadata": {
  "kernelspec": {
   "display_name": "Python 3",
   "language": "python",
   "name": "python3"
  },
  "language_info": {
   "codemirror_mode": {
    "name": "ipython",
    "version": 3
   },
   "file_extension": ".py",
   "mimetype": "text/x-python",
   "name": "python",
   "nbconvert_exporter": "python",
   "pygments_lexer": "ipython3",
   "version": "3.8.5"
  }
 },
 "nbformat": 4,
 "nbformat_minor": 4
}
