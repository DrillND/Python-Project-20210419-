{
 "cells": [
  {
   "cell_type": "code",
   "execution_count": 5,
   "metadata": {},
   "outputs": [
    {
     "name": "stdout",
     "output_type": "stream",
     "text": [
      "음주 비율\n",
      "서울특별시 62.1\n",
      "부산광역시 61.9\n",
      "대구광역시 58.6\n",
      "인천광역시 60.7\n",
      "광주광역시 61.1\n",
      "대전광역시 58.7\n",
      "울산광역시 63.5\n",
      "세종특별자치시 60.8\n",
      "경기도 61.0\n",
      "강원도 60.5\n",
      "충청북도 61.7\n",
      "충청남도 58.8\n",
      "전라북도 56.9\n",
      "전라남도 58.4\n",
      "경상북도 58.9\n",
      "경상남도 61.6\n",
      "제주특별자치도 58.8\n"
     ]
    }
   ],
   "source": [
    "import csv\n",
    "f=open('acholo.csv',encoding='cp949')\n",
    "data=csv.reader(f)\n",
    "header=next(data)\n",
    "i=0\n",
    "print('음주 비율')\n",
    "for i in data:\n",
    "    print(i[0],i[3])\n",
    "    \n",
    "f.close()"
   ]
  },
  {
   "cell_type": "code",
   "execution_count": null,
   "metadata": {},
   "outputs": [],
   "source": []
  }
 ],
 "metadata": {
  "kernelspec": {
   "display_name": "Python 3",
   "language": "python",
   "name": "python3"
  },
  "language_info": {
   "codemirror_mode": {
    "name": "ipython",
    "version": 3
   },
   "file_extension": ".py",
   "mimetype": "text/x-python",
   "name": "python",
   "nbconvert_exporter": "python",
   "pygments_lexer": "ipython3",
   "version": "3.8.5"
  }
 },
 "nbformat": 4,
 "nbformat_minor": 4
}
