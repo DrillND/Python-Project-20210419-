{
 "cells": [
  {
   "cell_type": "code",
   "execution_count": 69,
   "metadata": {},
   "outputs": [
    {
     "name": "stdout",
     "output_type": "stream",
     "text": [
      "['대구', '성별', '남자', '100', '40.3', '59.7']\n",
      "['대구', '성별', '여자', '100', '38.7', '61.3']\n",
      "[['40.3', '59.7'], ['38.7', '61.3']]\n"
     ]
    }
   ],
   "source": [
    "import csv\n",
    "\n",
    "f = open('exercise.csv', encoding = 'cp949')\n",
    "data = csv.reader(f)\n",
    "cv=[]\n",
    "key1='대구'\n",
    "key2='남자'\n",
    "key3='여자'\n",
    "for i in data:\n",
    "    if key1 in i[0]:\n",
    "        if key2 in i[2]:\n",
    "            a=i[-2:]\n",
    "            print(i)\n",
    "        if key3 in i[2]:\n",
    "            b=i[-2:]\n",
    "            print(i)\n",
    "\n",
    "        \n",
    "ck=[key2,key3]\n",
    "\n",
    "c=a+b\n",
    "\n",
    "n=2\n",
    "result1 = [c[i * n:(i + 1) * n] for i in range((len(c) - 1 + n) // n )] \n",
    "print(result1)\n",
    "\n",
    "dic1 = { name:value for name, value in zip(ck, result1) }\n",
    "\n",
    "\n",
    "\n",
    "\n",
    "f.close()"
   ]
  },
  {
   "cell_type": "code",
   "execution_count": 70,
   "metadata": {},
   "outputs": [],
   "source": [
    "exercise_men=list(dic1.values())[0][0]"
   ]
  },
  {
   "cell_type": "code",
   "execution_count": 71,
   "metadata": {},
   "outputs": [],
   "source": [
    "nonexercise_men=list(dic1.values())[0][1]"
   ]
  },
  {
   "cell_type": "code",
   "execution_count": 72,
   "metadata": {},
   "outputs": [],
   "source": [
    "exercise_women=list(dic1.values())[1][0]"
   ]
  },
  {
   "cell_type": "code",
   "execution_count": 73,
   "metadata": {},
   "outputs": [],
   "source": [
    "nonexercise_women1=list(dic1.values())[1][1]"
   ]
  },
  {
   "cell_type": "code",
   "execution_count": 77,
   "metadata": {},
   "outputs": [
    {
     "name": "stdout",
     "output_type": "stream",
     "text": [
      "['성 별', '남 자', '5.3', '10.0', '23.8', '29.2', '17.7', '14.0', '0.8', '2.4', '7.6', '27.4', '31.1', '30.7']\n",
      "['성 별', '여 자', '15.5', '25.9', '28.3', '19.4', '7.4', '3.5', '1.0', '5.6', '19.6', '-', '24.7', '13.8']\n",
      "[['5.3', '10.0', '23.8', '29.2', '17.7', '14.0', '0.8', '2.4', '7.6', '27.4', '31.1', '30.7'], ['15.5', '25.9', '28.3', '19.4', '7.4', '3.5', '1.0', '5.6', '19.6', '-', '24.7', '13.8']]\n"
     ]
    }
   ],
   "source": [
    "f = open('salary.csv', encoding = 'cp949')\n",
    "data = csv.reader(f)\n",
    "\n",
    "key1='남 자'\n",
    "key2='여 자'\n",
    "\n",
    "for i in data:\n",
    "    if key1 in i[1]:\n",
    "        a=i[-12:]\n",
    "        print(i)\n",
    "    if key2 in i[1]:\n",
    "        b=i[-12:]\n",
    "        print(i)\n",
    "\n",
    "ck=[key1,key2]\n",
    "c=a+b\n",
    "n=12\n",
    "result1 = [c[i * n:(i + 1) * n] for i in range((len(c) - 1 + n) // n )] \n",
    "print(result1)\n",
    "\n",
    "dic2 = { name:value for name, value in zip(ck, result1) }\n",
    "\n",
    "f.close()"
   ]
  },
  {
   "cell_type": "code",
   "execution_count": 78,
   "metadata": {},
   "outputs": [
    {
     "name": "stdout",
     "output_type": "stream",
     "text": [
      "['계', '소계', '1585638', '65907', '9028', '11681', '13503', '14249', '17446', '1516477', '20259', '18026', '118801', '131970', '123442', '156540', '155689', '192774', '184847', '180686', '116263', '58659', '58521', '3254']\n"
     ]
    }
   ],
   "source": [
    "f = open('crime.csv', encoding = 'cp949')\n",
    "data = csv.reader(f)\n",
    "\n",
    "for i in data:\n",
    "    if '계' in i[0]:\n",
    "        a=i[2:3]\n",
    "        print(i)\n",
    "d=['범죄를 저지를 확률','범죄를 안저지를 확률']\n",
    "f=[]\n",
    "a = list(map(int, a))\n",
    "\n",
    "\n",
    "c=(a[0]/50000000*100)\n",
    "b=100-(c)\n",
    "f=[c,b]\n",
    "\n",
    "dic3 = { name:value for name, value in zip(d, f) }\n"
   ]
  },
  {
   "cell_type": "code",
   "execution_count": 80,
   "metadata": {},
   "outputs": [
    {
     "data": {
      "text/plain": [
       "{'남자': ['40.3', '59.7'], '여자': ['38.7', '61.3']}"
      ]
     },
     "execution_count": 80,
     "metadata": {},
     "output_type": "execute_result"
    }
   ],
   "source": [
    "dic1"
   ]
  },
  {
   "cell_type": "code",
   "execution_count": 81,
   "metadata": {},
   "outputs": [
    {
     "data": {
      "text/plain": [
       "{'남 자': ['5.3',\n",
       "  '10.0',\n",
       "  '23.8',\n",
       "  '29.2',\n",
       "  '17.7',\n",
       "  '14.0',\n",
       "  '0.8',\n",
       "  '2.4',\n",
       "  '7.6',\n",
       "  '27.4',\n",
       "  '31.1',\n",
       "  '30.7'],\n",
       " '여 자': ['15.5',\n",
       "  '25.9',\n",
       "  '28.3',\n",
       "  '19.4',\n",
       "  '7.4',\n",
       "  '3.5',\n",
       "  '1.0',\n",
       "  '5.6',\n",
       "  '19.6',\n",
       "  '-',\n",
       "  '24.7',\n",
       "  '13.8']}"
      ]
     },
     "execution_count": 81,
     "metadata": {},
     "output_type": "execute_result"
    }
   ],
   "source": [
    "dic2"
   ]
  },
  {
   "cell_type": "code",
   "execution_count": 82,
   "metadata": {},
   "outputs": [
    {
     "data": {
      "text/plain": [
       "{'범죄를 저지를 확률': 3.1712759999999998, '범죄를 안저지를 확률': 96.828724}"
      ]
     },
     "execution_count": 82,
     "metadata": {},
     "output_type": "execute_result"
    }
   ],
   "source": [
    "dic3"
   ]
  },
  {
   "cell_type": "code",
   "execution_count": 86,
   "metadata": {},
   "outputs": [
    {
     "name": "stdout",
     "output_type": "stream",
     "text": [
      "['대구광역시', '건강', '흡연율 (%)', '20.8', '21.7', '19.8', '-']\n"
     ]
    }
   ],
   "source": [
    "f = open('etc.csv', encoding = 'cp949')\n",
    "data = csv.reader(f)\n",
    "\n",
    "key1='흡연율'\n",
    "key2='비흡연율'\n",
    "for i in data:\n",
    "    if '흡연율' in i[2]:\n",
    "        a=i[-2:-1]\n",
    "        print(i)\n",
    "a = list(map(float, a))\n",
    "b=100-a[0]        \n",
    "smoke=[key1,key2]\n",
    "non_smoke=[a[0],b]\n",
    "dic4 = { name:value for name, value in zip(smoke, non_smoke) }"
   ]
  },
  {
   "cell_type": "code",
   "execution_count": 87,
   "metadata": {},
   "outputs": [
    {
     "data": {
      "text/plain": [
       "{'흡연율': 19.8, '비흡연율': 80.2}"
      ]
     },
     "execution_count": 87,
     "metadata": {},
     "output_type": "execute_result"
    }
   ],
   "source": [
    "dic4"
   ]
  }
 ],
 "metadata": {
  "kernelspec": {
   "display_name": "Python 3",
   "language": "python",
   "name": "python3"
  },
  "language_info": {
   "codemirror_mode": {
    "name": "ipython",
    "version": 3
   },
   "file_extension": ".py",
   "mimetype": "text/x-python",
   "name": "python",
   "nbconvert_exporter": "python",
   "pygments_lexer": "ipython3",
   "version": "3.8.5"
  }
 },
 "nbformat": 4,
 "nbformat_minor": 4
}
