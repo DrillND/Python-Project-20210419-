{
 "cells": [
  {
   "cell_type": "code",
   "execution_count": 97,
   "metadata": {},
   "outputs": [],
   "source": [
    "import csv #나이대\n",
    "f=open('marriage.csv',encoding='cp949')\n",
    "data=csv.reader(f)\n",
    "\n",
    "for i in data:\n",
    "    if '대구' in i[0]:\n",
    "        if '15' in i[1]:\n",
    "            a=i[3:4]\n",
    "            \n",
    "        if '20' in i[1]:\n",
    "            b=i[3:4]\n",
    "        if '25' in i[1]:\n",
    "            c=i[3:4]\n",
    "        if '30' in i[1]:\n",
    "            d=i[3:4]\n",
    "        if '35' in i[1]:\n",
    "            e=i[3:4]\n",
    "        if '40' in i[1]:\n",
    "            f=i[3:4]\n",
    "        if '45' in i[1]:\n",
    "            g=i[3:4]\n",
    "        if '50' in i[1]:\n",
    "            h=i[3:4]\n",
    "        if '55' in i[1]:\n",
    "            j=i[3:4]\n",
    "        if '60' in i[1]:\n",
    "            k=i[3:4]\n",
    "        if '65' in i[1]:\n",
    "            l=i[3:4]\n",
    "        if '70' in i[1]:\n",
    "            m=i[3:4]\n",
    "        if '75' in i[1]:\n",
    "            n=i[3:4]\n",
    "        if '80' in i[1]:\n",
    "            o=i[3:4]\n",
    "        if '85' in i[1]:\n",
    "            p=i[3:4]\n",
    "\n",
    "mihon=a+b+c+d+e+f+g+h+j+k+l+m+n+o+p\n",
    "mihon=list(map(int,mihon))\n",
    "mihon_=[]\n",
    "for i in mihon:\n",
    "    mihon_.append((i/661854)*100)\n",
    "mihon_age=['15~19','20~24','25~29','30~34','35~39','40~44','45~49','50~54','55~59','60~64','65~69','70~74','75~79','80~84','85']   \n",
    "dic4 = { name:value for name, value in zip(mihon_age, mihon_) }\n",
    "dic4=list(dic4.values())\n",
    "def age():\n",
    "    s=int(input('나이를 입력하시오'))\n",
    "    \n",
    "    if 15<= s <=19:\n",
    "        return dic4[0]\n",
    "    if 20<= s <=24:\n",
    "        return dic4[1]\n",
    "    if 25<= s <=29:\n",
    "        return dic4[2]\n",
    "    if 30<= s <=34:\n",
    "        return dic4[3]\n",
    "    if 35<= s <=39:\n",
    "        return dic4[4]\n",
    "    if 40<= s <= 44:\n",
    "        return dic4[5]\n",
    "    if 45<= s <=49:\n",
    "        return dic4[6]\n",
    "    if 50<= s <=54:\n",
    "        return dic4[7]\n",
    "    if 55<= s <=59:\n",
    "        return dic4[8]\n",
    "    if 60<= s <=64:\n",
    "        return dic4[9]\n",
    "    if 65<= s <=69:\n",
    "        return dic4[10]\n",
    "    if 70<= s <=74:\n",
    "        return dic4[11]\n",
    "    if 75<= s <=79:\n",
    "        return dic4[12]\n",
    "    if 80<= s <=84:\n",
    "        return dic4[13]\n",
    "    if 85<=s:\n",
    "        return dic4[14]\n",
    "    "
   ]
  },
  {
   "cell_type": "code",
   "execution_count": 98,
   "metadata": {},
   "outputs": [
    {
     "name": "stdout",
     "output_type": "stream",
     "text": [
      "나이를 입력하시오16\n"
     ]
    },
    {
     "data": {
      "text/plain": [
       "24.892650040643403"
      ]
     },
     "execution_count": 98,
     "metadata": {},
     "output_type": "execute_result"
    }
   ],
   "source": [
    "age()"
   ]
  }
 ],
 "metadata": {
  "kernelspec": {
   "display_name": "Python 3",
   "language": "python",
   "name": "python3"
  },
  "language_info": {
   "codemirror_mode": {
    "name": "ipython",
    "version": 3
   },
   "file_extension": ".py",
   "mimetype": "text/x-python",
   "name": "python",
   "nbconvert_exporter": "python",
   "pygments_lexer": "ipython3",
   "version": "3.8.5"
  }
 },
 "nbformat": 4,
 "nbformat_minor": 4
}
